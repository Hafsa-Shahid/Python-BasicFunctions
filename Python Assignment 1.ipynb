{
 "cells": [
  {
   "cell_type": "markdown",
   "id": "c6e1820a",
   "metadata": {},
   "source": [
    "TASK 1"
   ]
  },
  {
   "cell_type": "code",
   "execution_count": 7,
   "id": "d87f1020",
   "metadata": {},
   "outputs": [
    {
     "name": "stdout",
     "output_type": "stream",
     "text": [
      "26\n",
      "Hafsa\n",
      "True\n"
     ]
    }
   ],
   "source": [
    "#QUESTION a:\n",
    "\n",
    "age = 26\n",
    "name = \"Hafsa\"\n",
    "occ = \"I am a student\"\n",
    "\n",
    "print(age)\n",
    "print(name)\n",
    "print(occ == \"I am a student\")"
   ]
  },
  {
   "cell_type": "markdown",
   "id": "a1fccfab",
   "metadata": {},
   "source": [
    "TASK 2"
   ]
  },
  {
   "cell_type": "code",
   "execution_count": 8,
   "id": "1d14e418",
   "metadata": {},
   "outputs": [
    {
     "name": "stdout",
     "output_type": "stream",
     "text": [
      "51\n",
      "HafsaSmith\n",
      "False\n"
     ]
    }
   ],
   "source": [
    "#QUESTION b:\n",
    "\n",
    "age += 25\n",
    "mynew_name = name + \"Smith\"\n",
    "mynew_occ = not occ\n",
    "\n",
    "print(age)\n",
    "print(mynew_name)\n",
    "print(mynew_occ)"
   ]
  },
  {
   "cell_type": "markdown",
   "id": "9778a82f",
   "metadata": {},
   "source": [
    "TASK 2"
   ]
  },
  {
   "cell_type": "code",
   "execution_count": 9,
   "id": "c29f4708",
   "metadata": {},
   "outputs": [
    {
     "name": "stdout",
     "output_type": "stream",
     "text": [
      "17.875\n"
     ]
    }
   ],
   "source": [
    "#Question a:\n",
    "\n",
    "rec_width = 5.5\n",
    "rec_height = 3.25\n",
    "\n",
    "area = rec_width * rec_height\n",
    "print(area)"
   ]
  },
  {
   "cell_type": "code",
   "execution_count": 10,
   "id": "32157632",
   "metadata": {},
   "outputs": [
    {
     "name": "stdout",
     "output_type": "stream",
     "text": [
      "95.0\n"
     ]
    }
   ],
   "source": [
    "#Question b:\n",
    "\n",
    "Celsius = 35\n",
    "Fahrenheit = Celsius*9/5 +32\n",
    "\n",
    "print(Fahrenheit)"
   ]
  },
  {
   "cell_type": "code",
   "execution_count": 11,
   "id": "80874f3a",
   "metadata": {},
   "outputs": [
    {
     "name": "stdout",
     "output_type": "stream",
     "text": [
      "78.53981633974483\n"
     ]
    }
   ],
   "source": [
    "#Question c:\n",
    "\n",
    "import math\n",
    "\n",
    "radius = 5\n",
    "area = math.pi * radius**2\n",
    "print(area)"
   ]
  },
  {
   "cell_type": "markdown",
   "id": "08e67ea0",
   "metadata": {},
   "source": [
    "TASK 3:"
   ]
  },
  {
   "cell_type": "code",
   "execution_count": 12,
   "id": "936565e3",
   "metadata": {},
   "outputs": [
    {
     "name": "stdout",
     "output_type": "stream",
     "text": [
      "['apple', 'banana', 'orange', 'grapes', 'kiwi']\n"
     ]
    }
   ],
   "source": [
    "#Question a:\n",
    "\n",
    "fruits = [\"apple\" , \"banana\" , \"orange\" , \"grapes\" ,\"kiwi\"]\n",
    "print(fruits)"
   ]
  },
  {
   "cell_type": "code",
   "execution_count": 14,
   "id": "361f1d7b",
   "metadata": {},
   "outputs": [
    {
     "name": "stdout",
     "output_type": "stream",
     "text": [
      "('january', 'february', 'march')\n"
     ]
    }
   ],
   "source": [
    "#Question b:\n",
    "\n",
    "months = (\"january\" , \"february\" , \"march\")\n",
    "print(months)"
   ]
  },
  {
   "cell_type": "markdown",
   "id": "5a94342a",
   "metadata": {},
   "source": [
    "TASK 4"
   ]
  },
  {
   "cell_type": "code",
   "execution_count": 15,
   "id": "9bab06ae",
   "metadata": {},
   "outputs": [
    {
     "name": "stdout",
     "output_type": "stream",
     "text": [
      "426\n",
      "53.25\n"
     ]
    }
   ],
   "source": [
    "#Question a:\n",
    "\n",
    "numbers = [12,34,45,67,89,100,23,56]\n",
    "\n",
    "sum_of_numbers = sum (numbers)\n",
    "print(sum_of_numbers)\n",
    "\n",
    "\n",
    "\n",
    "import statistics\n",
    "average = statistics.mean(numbers)\n",
    "print(average)"
   ]
  },
  {
   "cell_type": "code",
   "execution_count": 16,
   "id": "82d784b0",
   "metadata": {},
   "outputs": [
    {
     "name": "stdout",
     "output_type": "stream",
     "text": [
      "['banana', 'orange', 'grapes']\n"
     ]
    }
   ],
   "source": [
    "#Question b:\n",
    "\n",
    "fruits\n",
    "fruits.pop(0)\n",
    "fruits.pop(-1)\n",
    "print (fruits)"
   ]
  },
  {
   "cell_type": "markdown",
   "id": "1a61a079",
   "metadata": {},
   "source": [
    "TASK 5"
   ]
  },
  {
   "cell_type": "code",
   "execution_count": 18,
   "id": "642c8809",
   "metadata": {},
   "outputs": [
    {
     "name": "stdout",
     "output_type": "stream",
     "text": [
      "{'USA': 'Washington D.C.', 'France': 'Paris', 'Japan': 'Tokyo'}\n"
     ]
    }
   ],
   "source": [
    "#Questions a:\n",
    "\n",
    "capitals = {\"USA\":\"Washington D.C.\" , \"France\":\"Paris\" , \"Japan\":\"Tokyo\"}\n",
    "print(capitals)"
   ]
  },
  {
   "cell_type": "code",
   "execution_count": 19,
   "id": "6e630fde",
   "metadata": {},
   "outputs": [
    {
     "name": "stdout",
     "output_type": "stream",
     "text": [
      "{'USA': 'Washington D.C.', 'France': 'Paris', 'Japan': 'Tokyo', 'Germany': 'Berlin'}\n"
     ]
    }
   ],
   "source": [
    "#Question b:\n",
    "\n",
    "capitals[\"Germany\"] = \"Berlin\"\n",
    "print(capitals)"
   ]
  },
  {
   "cell_type": "code",
   "execution_count": 20,
   "id": "357b610b",
   "metadata": {},
   "outputs": [
    {
     "name": "stdout",
     "output_type": "stream",
     "text": [
      "France is in the dictionary\n"
     ]
    }
   ],
   "source": [
    "#Question c:\n",
    "\n",
    "capitals\n",
    "if \"France\" in capitals:\n",
    "    print(\"France is in the dictionary\")\n",
    "    \n",
    "else:\n",
    "    print(\"France is not in the dictionary\")"
   ]
  },
  {
   "cell_type": "markdown",
   "id": "11ebbfc7",
   "metadata": {},
   "source": [
    "TASK 6:"
   ]
  },
  {
   "cell_type": "code",
   "execution_count": 21,
   "id": "05a91fab",
   "metadata": {},
   "outputs": [
    {
     "name": "stdout",
     "output_type": "stream",
     "text": [
      "Please select a number: 29\n",
      "the number is odd\n"
     ]
    }
   ],
   "source": [
    "#Question a:\n",
    "\n",
    "number = int(input(\"Please select a number: \"))\n",
    "\n",
    "if number %2 ==0:\n",
    "    print(\"the number is even\")\n",
    "    \n",
    "else: \n",
    "    print(\"the number is odd\")"
   ]
  },
  {
   "cell_type": "code",
   "execution_count": 22,
   "id": "5fcdc641",
   "metadata": {},
   "outputs": [
    {
     "name": "stdout",
     "output_type": "stream",
     "text": [
      "Eligible for admission\n"
     ]
    }
   ],
   "source": [
    "#Question b:\n",
    "\n",
    "Age = 25\n",
    "GPA = 3.88\n",
    "\n",
    "if Age >= 18 and  4 >= GPA >= 3.0:\n",
    "    print(\"Eligible for admission\")\n",
    "    \n",
    "else: \n",
    "    print(\"Not eligible for admission\")"
   ]
  },
  {
   "cell_type": "markdown",
   "id": "9b5269b4",
   "metadata": {},
   "source": [
    "TASK 7"
   ]
  },
  {
   "cell_type": "code",
   "execution_count": 23,
   "id": "2bc12225",
   "metadata": {},
   "outputs": [
    {
     "name": "stdout",
     "output_type": "stream",
     "text": [
      "{'orange', 'banana', 'apple', 'grapes', 'kiwi'}\n"
     ]
    }
   ],
   "source": [
    "#Question a:\n",
    "\n",
    "fruits_set = {\"apple\" , \"banana\" , \"orange\" , \"grapes\" , \"kiwi\"}\n",
    "\n",
    "print(fruits_set)"
   ]
  },
  {
   "cell_type": "code",
   "execution_count": 24,
   "id": "8d668a67",
   "metadata": {},
   "outputs": [
    {
     "name": "stdout",
     "output_type": "stream",
     "text": [
      "{1, 2, 3, 4, 5, 6, 7}\n",
      "{3, 4, 5}\n",
      "{1, 2}\n",
      "False\n"
     ]
    }
   ],
   "source": [
    "#Question b:\n",
    "\n",
    "set1 = {1,2,3,4,5}\n",
    "set2 = {3,4,5,6,7}\n",
    "\n",
    "union = set1.union(set2)\n",
    "print(union)\n",
    "\n",
    "intersection = set1 & set2\n",
    "print(intersection)\n",
    "\n",
    "difference = set1 - set2\n",
    "print(difference)\n",
    "\n",
    "subset_1of2 = (set1. issubset(set2))\n",
    "print(subset_1of2)\n"
   ]
  },
  {
   "cell_type": "markdown",
   "id": "ba84bbbf",
   "metadata": {},
   "source": [
    "TASK 8"
   ]
  },
  {
   "cell_type": "code",
   "execution_count": 25,
   "id": "e6abdb1d",
   "metadata": {},
   "outputs": [
    {
     "name": "stdout",
     "output_type": "stream",
     "text": [
      "38\n",
      "PYTHON PROGRAMMING IS FUN AND POWERFUL\n",
      "Python programming is exciting and powerful\n",
      "0\n",
      "['Python', 'programming', 'is', 'fun', 'and', 'powerful']\n"
     ]
    }
   ],
   "source": [
    "#Question a:\n",
    "\n",
    "string = \"Python programming is fun and powerful\"\n",
    "\n",
    "a = len(string)\n",
    "print(a)\n",
    "\n",
    "b = string.upper()\n",
    "print(b)\n",
    "\n",
    "c = string.replace(\"fun\" , \"exciting\")\n",
    "print(c)\n",
    "\n",
    "d = string.find(\"Python\")\n",
    "print(d)\n",
    "\n",
    "e = string.split()\n",
    "print(e)"
   ]
  }
 ],
 "metadata": {
  "kernelspec": {
   "display_name": "Python 3 (ipykernel)",
   "language": "python",
   "name": "python3"
  },
  "language_info": {
   "codemirror_mode": {
    "name": "ipython",
    "version": 3
   },
   "file_extension": ".py",
   "mimetype": "text/x-python",
   "name": "python",
   "nbconvert_exporter": "python",
   "pygments_lexer": "ipython3",
   "version": "3.11.5"
  }
 },
 "nbformat": 4,
 "nbformat_minor": 5
}
